{
 "cells": [
  {
   "cell_type": "code",
   "execution_count": 1,
   "id": "8927e510-7307-4f77-9d1b-e116fb3fecf9",
   "metadata": {},
   "outputs": [],
   "source": [
    "import numpy as np\n",
    "import pandas as pd\n",
    "import matplotlib.pyplot as plt\n",
    "import seaborn as sns"
   ]
  },
  {
   "cell_type": "markdown",
   "id": "f3c244fa-792d-4cd3-b827-6fd8208445e0",
   "metadata": {},
   "source": [
    "1. While loading dataset, 1st row became column names, so we pass 'header = None'\n",
    "2. Also, the format may be csv, but the values within was **TAB** separated."
   ]
  },
  {
   "cell_type": "code",
   "execution_count": 2,
   "id": "5806fec7-8d10-40df-bcf3-ec9dbe60706a",
   "metadata": {},
   "outputs": [],
   "source": [
    "# 1. Load the users dataset\n",
    "df1 = pd.read_csv('kaggle_visible_evaluation_triplets.txt',header=None,sep='\\t')\n",
    "df1.rename(columns={0:'user_id',\n",
    "                    1:'song_id',\n",
    "                    2:'listen_count'},inplace=True)\n",
    "\n",
    "\n",
    "\n",
    "# 2. Load the songs dataset\n",
    "df2 = pd.read_csv('song_data.csv')\n",
    "df2.drop_duplicates(['song_id'],inplace=True)"
   ]
  },
  {
   "cell_type": "code",
   "execution_count": 3,
   "id": "60ba3e9d-429f-4db7-a85f-1fcbaf3ca318",
   "metadata": {},
   "outputs": [
    {
     "data": {
      "text/html": [
       "<div>\n",
       "<style scoped>\n",
       "    .dataframe tbody tr th:only-of-type {\n",
       "        vertical-align: middle;\n",
       "    }\n",
       "\n",
       "    .dataframe tbody tr th {\n",
       "        vertical-align: top;\n",
       "    }\n",
       "\n",
       "    .dataframe thead th {\n",
       "        text-align: right;\n",
       "    }\n",
       "</style>\n",
       "<table border=\"1\" class=\"dataframe\">\n",
       "  <thead>\n",
       "    <tr style=\"text-align: right;\">\n",
       "      <th></th>\n",
       "      <th>user_id</th>\n",
       "      <th>song_id</th>\n",
       "      <th>listen_count</th>\n",
       "      <th>title</th>\n",
       "      <th>release</th>\n",
       "      <th>artist_name</th>\n",
       "      <th>year</th>\n",
       "    </tr>\n",
       "  </thead>\n",
       "  <tbody>\n",
       "    <tr>\n",
       "      <th>0</th>\n",
       "      <td>fd50c4007b68a3737fe052d5a4f78ce8aa117f3d</td>\n",
       "      <td>SOBONKR12A58A7A7E0</td>\n",
       "      <td>1</td>\n",
       "      <td>You're The One</td>\n",
       "      <td>If There Was A Way</td>\n",
       "      <td>Dwight Yoakam</td>\n",
       "      <td>1990</td>\n",
       "    </tr>\n",
       "    <tr>\n",
       "      <th>1</th>\n",
       "      <td>c34670d9c1718361feb93068a853cead3c95b76a</td>\n",
       "      <td>SOBONKR12A58A7A7E0</td>\n",
       "      <td>1</td>\n",
       "      <td>You're The One</td>\n",
       "      <td>If There Was A Way</td>\n",
       "      <td>Dwight Yoakam</td>\n",
       "      <td>1990</td>\n",
       "    </tr>\n",
       "    <tr>\n",
       "      <th>2</th>\n",
       "      <td>c5006d9f41f68ccccbf5ee29212b6af494110c5e</td>\n",
       "      <td>SOBONKR12A58A7A7E0</td>\n",
       "      <td>1</td>\n",
       "      <td>You're The One</td>\n",
       "      <td>If There Was A Way</td>\n",
       "      <td>Dwight Yoakam</td>\n",
       "      <td>1990</td>\n",
       "    </tr>\n",
       "    <tr>\n",
       "      <th>3</th>\n",
       "      <td>e4332e11f4df6dd26673bb6b085e9a2bbdc9b8a5</td>\n",
       "      <td>SOBONKR12A58A7A7E0</td>\n",
       "      <td>2</td>\n",
       "      <td>You're The One</td>\n",
       "      <td>If There Was A Way</td>\n",
       "      <td>Dwight Yoakam</td>\n",
       "      <td>1990</td>\n",
       "    </tr>\n",
       "    <tr>\n",
       "      <th>4</th>\n",
       "      <td>baf2fe5885ab93fbbdb7fecc6691788e70afb6c8</td>\n",
       "      <td>SOBONKR12A58A7A7E0</td>\n",
       "      <td>4</td>\n",
       "      <td>You're The One</td>\n",
       "      <td>If There Was A Way</td>\n",
       "      <td>Dwight Yoakam</td>\n",
       "      <td>1990</td>\n",
       "    </tr>\n",
       "  </tbody>\n",
       "</table>\n",
       "</div>"
      ],
      "text/plain": [
       "                                    user_id             song_id  listen_count  \\\n",
       "0  fd50c4007b68a3737fe052d5a4f78ce8aa117f3d  SOBONKR12A58A7A7E0             1   \n",
       "1  c34670d9c1718361feb93068a853cead3c95b76a  SOBONKR12A58A7A7E0             1   \n",
       "2  c5006d9f41f68ccccbf5ee29212b6af494110c5e  SOBONKR12A58A7A7E0             1   \n",
       "3  e4332e11f4df6dd26673bb6b085e9a2bbdc9b8a5  SOBONKR12A58A7A7E0             2   \n",
       "4  baf2fe5885ab93fbbdb7fecc6691788e70afb6c8  SOBONKR12A58A7A7E0             4   \n",
       "\n",
       "            title             release    artist_name  year  \n",
       "0  You're The One  If There Was A Way  Dwight Yoakam  1990  \n",
       "1  You're The One  If There Was A Way  Dwight Yoakam  1990  \n",
       "2  You're The One  If There Was A Way  Dwight Yoakam  1990  \n",
       "3  You're The One  If There Was A Way  Dwight Yoakam  1990  \n",
       "4  You're The One  If There Was A Way  Dwight Yoakam  1990  "
      ]
     },
     "execution_count": 3,
     "metadata": {},
     "output_type": "execute_result"
    }
   ],
   "source": [
    "df = df1.merge(df2,on='song_id')\n",
    "df = df.head(500000)\n",
    "df.head()"
   ]
  },
  {
   "cell_type": "code",
   "execution_count": 4,
   "id": "5f4cc74c-a578-4083-aebe-7844c3346203",
   "metadata": {},
   "outputs": [
    {
     "data": {
      "text/plain": [
       "(500000, 7)"
      ]
     },
     "execution_count": 4,
     "metadata": {},
     "output_type": "execute_result"
    }
   ],
   "source": [
    "df.shape"
   ]
  },
  {
   "cell_type": "code",
   "execution_count": 5,
   "id": "d7f300dc-4b3e-4b74-bcc0-3a964b6b5a53",
   "metadata": {},
   "outputs": [
    {
     "data": {
      "text/plain": [
       "user_id         0\n",
       "song_id         0\n",
       "listen_count    0\n",
       "title           0\n",
       "release         0\n",
       "artist_name     0\n",
       "year            0\n",
       "dtype: int64"
      ]
     },
     "execution_count": 5,
     "metadata": {},
     "output_type": "execute_result"
    }
   ],
   "source": [
    "# Check for null values\n",
    "df.isnull().sum()"
   ]
  },
  {
   "cell_type": "markdown",
   "id": "09176e85-9a71-4589-b972-e98521a065dd",
   "metadata": {},
   "source": [
    "**DIFFERENT SONGS**"
   ]
  },
  {
   "cell_type": "code",
   "execution_count": 6,
   "id": "151fff44-658a-4ebc-9f5c-323ccac6f030",
   "metadata": {},
   "outputs": [
    {
     "name": "stdout",
     "output_type": "stream",
     "text": [
      "There are 6183 different songs in the dataset\n"
     ]
    }
   ],
   "source": [
    "print(f\"There are {df['title'].nunique()} different songs in the dataset\")"
   ]
  },
  {
   "cell_type": "markdown",
   "id": "fb68077c-8bbb-45dc-b681-4321147a6caa",
   "metadata": {},
   "source": [
    "**DIFFERENT ARTISTS**"
   ]
  },
  {
   "cell_type": "code",
   "execution_count": 7,
   "id": "b92730d9-7e1c-4a6b-a49d-6eb09d47a1c1",
   "metadata": {},
   "outputs": [
    {
     "name": "stdout",
     "output_type": "stream",
     "text": [
      "There are 3194 different artists in the dataset\n"
     ]
    }
   ],
   "source": [
    "print(f\"There are {df['artist_name'].nunique()} different artists in the dataset\")"
   ]
  },
  {
   "cell_type": "markdown",
   "id": "7701c4a8-d6a9-4c57-8d55-67fe8778e254",
   "metadata": {},
   "source": [
    "**DIFFERENT USERS**"
   ]
  },
  {
   "cell_type": "code",
   "execution_count": 8,
   "id": "5393f91d-6f8a-4c7b-91c2-14c18bc09dcd",
   "metadata": {},
   "outputs": [
    {
     "name": "stdout",
     "output_type": "stream",
     "text": [
      "There are 100931 different users in the dataset\n"
     ]
    }
   ],
   "source": [
    "print(f\"There are {df['user_id'].nunique()} different users in the dataset\")"
   ]
  },
  {
   "cell_type": "markdown",
   "id": "5976e419-537d-4cd0-8d21-18d12659ae12",
   "metadata": {},
   "source": [
    "**Top 10 most popular songs**"
   ]
  },
  {
   "cell_type": "code",
   "execution_count": 9,
   "id": "ae6f5868-90b9-4490-b503-876aec1bd9da",
   "metadata": {},
   "outputs": [
    {
     "data": {
      "text/html": [
       "<div>\n",
       "<style scoped>\n",
       "    .dataframe tbody tr th:only-of-type {\n",
       "        vertical-align: middle;\n",
       "    }\n",
       "\n",
       "    .dataframe tbody tr th {\n",
       "        vertical-align: top;\n",
       "    }\n",
       "\n",
       "    .dataframe thead th {\n",
       "        text-align: right;\n",
       "    }\n",
       "</style>\n",
       "<table border=\"1\" class=\"dataframe\">\n",
       "  <thead>\n",
       "    <tr style=\"text-align: right;\">\n",
       "      <th></th>\n",
       "      <th>title</th>\n",
       "      <th>listen_count</th>\n",
       "    </tr>\n",
       "  </thead>\n",
       "  <tbody>\n",
       "    <tr>\n",
       "      <th>4388</th>\n",
       "      <td>Sehr kosmisch</td>\n",
       "      <td>5043</td>\n",
       "    </tr>\n",
       "    <tr>\n",
       "      <th>5613</th>\n",
       "      <td>Undo</td>\n",
       "      <td>4483</td>\n",
       "    </tr>\n",
       "    <tr>\n",
       "      <th>6126</th>\n",
       "      <td>You're The One</td>\n",
       "      <td>4136</td>\n",
       "    </tr>\n",
       "    <tr>\n",
       "      <th>1256</th>\n",
       "      <td>Dog Days Are Over (Radio Edit)</td>\n",
       "      <td>3780</td>\n",
       "    </tr>\n",
       "    <tr>\n",
       "      <th>4147</th>\n",
       "      <td>Revelry</td>\n",
       "      <td>3672</td>\n",
       "    </tr>\n",
       "    <tr>\n",
       "      <th>4378</th>\n",
       "      <td>Secrets</td>\n",
       "      <td>3430</td>\n",
       "    </tr>\n",
       "    <tr>\n",
       "      <th>2207</th>\n",
       "      <td>Horn Concerto No. 4 in E flat K495: II. Romanc...</td>\n",
       "      <td>3272</td>\n",
       "    </tr>\n",
       "    <tr>\n",
       "      <th>2142</th>\n",
       "      <td>Hey_ Soul Sister</td>\n",
       "      <td>2791</td>\n",
       "    </tr>\n",
       "    <tr>\n",
       "      <th>1658</th>\n",
       "      <td>Fireflies</td>\n",
       "      <td>2725</td>\n",
       "    </tr>\n",
       "    <tr>\n",
       "      <th>5444</th>\n",
       "      <td>Tive Sim</td>\n",
       "      <td>2668</td>\n",
       "    </tr>\n",
       "  </tbody>\n",
       "</table>\n",
       "</div>"
      ],
      "text/plain": [
       "                                                  title  listen_count\n",
       "4388                                      Sehr kosmisch          5043\n",
       "5613                                               Undo          4483\n",
       "6126                                     You're The One          4136\n",
       "1256                     Dog Days Are Over (Radio Edit)          3780\n",
       "4147                                            Revelry          3672\n",
       "4378                                            Secrets          3430\n",
       "2207  Horn Concerto No. 4 in E flat K495: II. Romanc...          3272\n",
       "2142                                   Hey_ Soul Sister          2791\n",
       "1658                                          Fireflies          2725\n",
       "5444                                           Tive Sim          2668"
      ]
     },
     "execution_count": 9,
     "metadata": {},
     "output_type": "execute_result"
    }
   ],
   "source": [
    "# Most popular songs by decending order\n",
    "group = df.groupby('title')['listen_count'].count().reset_index().sort_values(['listen_count', 'title'], ascending = [0,1])\n",
    "top10 = group.head(10)\n",
    "top10"
   ]
  },
  {
   "cell_type": "markdown",
   "id": "f65ad074-309c-4977-8c37-ed81038fa753",
   "metadata": {},
   "source": [
    "**Top 10 artists**"
   ]
  },
  {
   "cell_type": "code",
   "execution_count": 10,
   "id": "194f18b7-9236-41d4-b7d0-e69cbc8f1167",
   "metadata": {},
   "outputs": [
    {
     "data": {
      "text/html": [
       "<div>\n",
       "<style scoped>\n",
       "    .dataframe tbody tr th:only-of-type {\n",
       "        vertical-align: middle;\n",
       "    }\n",
       "\n",
       "    .dataframe tbody tr th {\n",
       "        vertical-align: top;\n",
       "    }\n",
       "\n",
       "    .dataframe thead th {\n",
       "        text-align: right;\n",
       "    }\n",
       "</style>\n",
       "<table border=\"1\" class=\"dataframe\">\n",
       "  <thead>\n",
       "    <tr style=\"text-align: right;\">\n",
       "      <th></th>\n",
       "      <th>artist_name</th>\n",
       "      <th>listen_count</th>\n",
       "    </tr>\n",
       "  </thead>\n",
       "  <tbody>\n",
       "    <tr>\n",
       "      <th>623</th>\n",
       "      <td>Coldplay</td>\n",
       "      <td>9622</td>\n",
       "    </tr>\n",
       "    <tr>\n",
       "      <th>1029</th>\n",
       "      <td>Florence + The Machine</td>\n",
       "      <td>8006</td>\n",
       "    </tr>\n",
       "    <tr>\n",
       "      <th>1492</th>\n",
       "      <td>Justin Bieber</td>\n",
       "      <td>7669</td>\n",
       "    </tr>\n",
       "    <tr>\n",
       "      <th>1571</th>\n",
       "      <td>Kings Of Leon</td>\n",
       "      <td>6696</td>\n",
       "    </tr>\n",
       "    <tr>\n",
       "      <th>3015</th>\n",
       "      <td>Train</td>\n",
       "      <td>5622</td>\n",
       "    </tr>\n",
       "    <tr>\n",
       "      <th>1210</th>\n",
       "      <td>Harmonia</td>\n",
       "      <td>5043</td>\n",
       "    </tr>\n",
       "    <tr>\n",
       "      <th>2065</th>\n",
       "      <td>OneRepublic</td>\n",
       "      <td>4940</td>\n",
       "    </tr>\n",
       "    <tr>\n",
       "      <th>312</th>\n",
       "      <td>Björk</td>\n",
       "      <td>4643</td>\n",
       "    </tr>\n",
       "    <tr>\n",
       "      <th>1684</th>\n",
       "      <td>Linkin Park</td>\n",
       "      <td>4545</td>\n",
       "    </tr>\n",
       "    <tr>\n",
       "      <th>914</th>\n",
       "      <td>Eminem</td>\n",
       "      <td>4335</td>\n",
       "    </tr>\n",
       "  </tbody>\n",
       "</table>\n",
       "</div>"
      ],
      "text/plain": [
       "                 artist_name  listen_count\n",
       "623                 Coldplay          9622\n",
       "1029  Florence + The Machine          8006\n",
       "1492           Justin Bieber          7669\n",
       "1571           Kings Of Leon          6696\n",
       "3015                   Train          5622\n",
       "1210                Harmonia          5043\n",
       "2065             OneRepublic          4940\n",
       "312                    Björk          4643\n",
       "1684             Linkin Park          4545\n",
       "914                   Eminem          4335"
      ]
     },
     "execution_count": 10,
     "metadata": {},
     "output_type": "execute_result"
    }
   ],
   "source": [
    "# Most popular artists\n",
    "group = df.groupby('artist_name')['listen_count'].count().reset_index().sort_values(['listen_count', 'artist_name'], ascending = [0,1])\n",
    "\n",
    "# Top 10 popular artist\n",
    "art10 = group.head(10)\n",
    "art10"
   ]
  },
  {
   "cell_type": "markdown",
   "id": "6e526382-b33e-48c0-a7ce-290a69bf9762",
   "metadata": {},
   "source": [
    "**GRAPH: Top 10 songs**"
   ]
  },
  {
   "cell_type": "code",
   "execution_count": 11,
   "id": "aacefff3-4390-4b74-83da-277d4d5fd56e",
   "metadata": {},
   "outputs": [
    {
     "data": {
      "image/png": "[encoded data removed]",
      "text/plain": [
       "<Figure size 500x300 with 1 Axes>"
      ]
     },
     "metadata": {},
     "output_type": "display_data"
    }
   ],
   "source": [
    "plt.figure(figsize=(5,3))\n",
    "sns.barplot(x=top10['listen_count'].tolist(), y=top10['title'].tolist())\n",
    "sns.despine(left=True, bottom=True)"
   ]
  },
  {
   "cell_type": "markdown",
   "id": "1fffba14-aefb-4543-a593-f7a026bb97ad",
   "metadata": {},
   "source": [
    "**GRAPH: Top 10 artists**"
   ]
  },
  {
   "cell_type": "code",
   "execution_count": 12,
   "id": "2560a851-3fa3-408c-83e9-49ff5ef46385",
   "metadata": {},
   "outputs": [
    {
     "data": {
      "image/png": "[encoded data removed]",
      "text/plain": [
       "<Figure size 500x300 with 1 Axes>"
      ]
     },
     "metadata": {},
     "output_type": "display_data"
    }
   ],
   "source": [
    "plt.figure(figsize=(5,3))\n",
    "sns.barplot(x=art10['listen_count'].tolist(), y=art10['artist_name'].tolist())\n",
    "sns.despine(left=True, bottom=True)"
   ]
  },
  {
   "cell_type": "code",
   "execution_count": 13,
   "id": "b94e71e1-a9fd-41d4-a56e-c54c0a939301",
   "metadata": {},
   "outputs": [
    {
     "name": "stdout",
     "output_type": "stream",
     "text": [
      "Average no. of songs a user listens to is 4.95\n"
     ]
    }
   ],
   "source": [
    "Avg = df.groupby('user_id')['song_id'].count().reset_index().sort_values(['song_id', 'user_id'], ascending = [0,1])\n",
    "print(f\"Average no. of songs a user listens to is {round(Avg['song_id'].mean(),2)}\" )"
   ]
  },
  {
   "cell_type": "code",
   "execution_count": 14,
   "id": "56f4a43d-57da-49a6-bf6c-0502054735cd",
   "metadata": {},
   "outputs": [
    {
     "data": {
      "text/plain": [
       "<Figure size 1000x500 with 0 Axes>"
      ]
     },
     "metadata": {},
     "output_type": "display_data"
    },
    {
     "data": {
      "image/png": "[encoded data removed]",
      "text/plain": [
       "<Figure size 500x500 with 1 Axes>"
      ]
     },
     "metadata": {},
     "output_type": "display_data"
    }
   ],
   "source": [
    "Avg_graph = df.groupby('user_id')['song_id'].count()\n",
    "\n",
    "plt.figure(figsize=(10, 5))\n",
    "sns.displot(Avg_graph.values,palette='muted')\n",
    "plt.show();"
   ]
  },
  {
   "cell_type": "markdown",
   "id": "ce948248-94f0-48aa-960a-b2f8d155f9ed",
   "metadata": {},
   "source": [
    "* From the graph above we notice that most users listen 1-10 songs on average."
   ]
  },
  {
   "cell_type": "markdown",
   "id": "83537a99-599b-46fe-81d6-f5e921da2c04",
   "metadata": {
    "jp-MarkdownHeadingCollapsed": true
   },
   "source": [
    "### Recommender"
   ]
  },
  {
   "cell_type": "code",
   "execution_count": 15,
   "id": "d06bff3d-37d2-42d6-97d9-62ed64156422",
   "metadata": {},
   "outputs": [],
   "source": [
    "import numpy as np\n",
    "import pandas\n",
    "\n",
    "#Class for Popularity based Recommender System model\n",
    "class popularity_recommender_py():\n",
    "    def __init__(self):\n",
    "        self.train_data = None\n",
    "        self.user_id = None\n",
    "        self.item_id = None\n",
    "        self.popularity_recommendations = None\n",
    "        \n",
    "    #Create the popularity based recommender system model\n",
    "    def create(self, train_data, user_id, item_id):\n",
    "        self.train_data = train_data\n",
    "        self.user_id = user_id\n",
    "        self.item_id = item_id\n",
    "\n",
    "        #Get a count of user_ids for each unique song as recommendation score\n",
    "        train_data_grouped = train_data.groupby([self.item_id]).agg({self.user_id: 'count'}).reset_index()\n",
    "        train_data_grouped.rename(columns = {'user_id': 'score'},inplace=True)\n",
    "    \n",
    "        #Sort the songs based upon recommendation score\n",
    "        train_data_sort = train_data_grouped.sort_values(['score', self.item_id], ascending = [0,1])\n",
    "    \n",
    "        #Generate a recommendation rank based upon score\n",
    "        train_data_sort['Rank'] = train_data_sort['score'].rank(ascending=0, method='first')\n",
    "        \n",
    "        #Get the top 10 recommendations\n",
    "        self.popularity_recommendations = train_data_sort.head(10)\n",
    "\n",
    "    #Use the popularity based recommender system model to\n",
    "    #make recommendations\n",
    "    def recommend(self, user_id):    \n",
    "        user_recommendations = self.popularity_recommendations\n",
    "        \n",
    "        #Add user_id column for which the recommendations are being generated\n",
    "        user_recommendations['user_id'] = user_id\n",
    "    \n",
    "        #Bring user_id column to the front\n",
    "        cols = user_recommendations.columns.tolist()\n",
    "        cols = cols[-1:] + cols[:-1]\n",
    "        user_recommendations = user_recommendations[cols]\n",
    "        \n",
    "        return user_recommendations\n",
    "    \n",
    "\n",
    "#Class for Item similarity based Recommender System model\n",
    "class item_similarity_recommender_py():\n",
    "    def __init__(self):\n",
    "        self.train_data = None\n",
    "        self.user_id = None\n",
    "        self.item_id = None\n",
    "        self.cooccurence_matrix = None\n",
    "        self.songs_dict = None\n",
    "        self.rev_songs_dict = None\n",
    "        self.item_similarity_recommendations = None\n",
    "        \n",
    "    #Get unique items (songs) corresponding to a given user\n",
    "    def get_user_items(self, user):\n",
    "        user_data = self.train_data[self.train_data[self.user_id] == user]\n",
    "        user_items = list(user_data[self.item_id].unique())\n",
    "        \n",
    "        return user_items\n",
    "        \n",
    "    #Get unique users for a given item (song)\n",
    "    def get_item_users(self, item):\n",
    "        item_data = self.train_data[self.train_data[self.item_id] == item]\n",
    "        item_users = set(item_data[self.user_id].unique())\n",
    "            \n",
    "        return item_users\n",
    "        \n",
    "    #Get unique items (songs) in the training data\n",
    "    def get_all_items_train_data(self):\n",
    "        all_items = list(self.train_data[self.item_id].unique())\n",
    "            \n",
    "        return all_items\n",
    "        \n",
    "    #Construct cooccurence matrix\n",
    "    def construct_cooccurence_matrix(self, user_songs, all_songs):\n",
    "            \n",
    "        ####################################\n",
    "        #Get users for all songs in user_songs.\n",
    "        ####################################\n",
    "        user_songs_users = []        \n",
    "        for i in range(0, len(user_songs)):\n",
    "            user_songs_users.append(self.get_item_users(user_songs[i]))\n",
    "            \n",
    "        ###############################################\n",
    "        #Initialize the item cooccurence matrix of size \n",
    "        #len(user_songs) X len(songs)\n",
    "        ###############################################\n",
    "        cooccurence_matrix = np.matrix(np.zeros(shape=(len(user_songs), len(all_songs))), float)\n",
    "           \n",
    "        #############################################################\n",
    "        #Calculate similarity between user songs and all unique songs\n",
    "        #in the training data\n",
    "        #############################################################\n",
    "        for i in range(0,len(all_songs)):\n",
    "            #Calculate unique listeners (users) of song (item) i\n",
    "            songs_i_data = self.train_data[self.train_data[self.item_id] == all_songs[i]]\n",
    "            users_i = set(songs_i_data[self.user_id].unique())\n",
    "            \n",
    "            for j in range(0,len(user_songs)):       \n",
    "                    \n",
    "                #Get unique listeners (users) of song (item) j\n",
    "                users_j = user_songs_users[j]\n",
    "                    \n",
    "                #Calculate intersection of listeners of songs i and j\n",
    "                users_intersection = users_i.intersection(users_j)\n",
    "                \n",
    "                #Calculate cooccurence_matrix[i,j] as Jaccard Index\n",
    "                if len(users_intersection) != 0:\n",
    "                    #Calculate union of listeners of songs i and j\n",
    "                    users_union = users_i.union(users_j)\n",
    "                    \n",
    "                    cooccurence_matrix[j,i] = float(len(users_intersection))/float(len(users_union))\n",
    "                else:\n",
    "                    cooccurence_matrix[j,i] = 0\n",
    "                    \n",
    "        \n",
    "        return cooccurence_matrix\n",
    "\n",
    "    \n",
    "    #Use the cooccurence matrix to make top recommendations\n",
    "    def generate_top_recommendations(self, user, cooccurence_matrix, all_songs, user_songs):\n",
    "        print(\"Non zero values in cooccurence_matrix :%d\" % np.count_nonzero(cooccurence_matrix))\n",
    "        \n",
    "        #Calculate a weighted average of the scores in cooccurence matrix for all user songs.\n",
    "        user_sim_scores = cooccurence_matrix.sum(axis=0)/float(cooccurence_matrix.shape[0])\n",
    "        user_sim_scores = np.array(user_sim_scores)[0].tolist()\n",
    " \n",
    "        #Sort the indices of user_sim_scores based upon their value\n",
    "        #Also maintain the corresponding score\n",
    "        sort_index = sorted(((e,i) for i,e in enumerate(list(user_sim_scores))), reverse=True)\n",
    "    \n",
    "        #Create a dataframe from the following\n",
    "        columns = ['user_id', 'song', 'score', 'rank']\n",
    "        #index = np.arange(1) # array of numbers for the number of samples\n",
    "        df = pandas.DataFrame(columns=columns)\n",
    "         \n",
    "        #Fill the dataframe with top 10 item based recommendations\n",
    "        rank = 1 \n",
    "        for i in range(0,len(sort_index)):\n",
    "            if ~np.isnan(sort_index[i][0]) and all_songs[sort_index[i][1]] not in user_songs and rank <= 10:\n",
    "                df.loc[len(df)]=[user,all_songs[sort_index[i][1]],sort_index[i][0],rank]\n",
    "                rank = rank+1\n",
    "        \n",
    "        #Handle the case where there are no recommendations\n",
    "        if df.shape[0] == 0:\n",
    "            print(\"The current user has no songs for training the item similarity based recommendation model.\")\n",
    "            return -1\n",
    "        else:\n",
    "            return df\n",
    " \n",
    "    #Create the item similarity based recommender system model\n",
    "    def create(self, train_data, user_id, item_id):\n",
    "        self.train_data = train_data\n",
    "        self.user_id = user_id\n",
    "        self.item_id = item_id\n",
    "\n",
    "    #Use the item similarity based recommender system model to\n",
    "    #make recommendations\n",
    "    def recommend(self, user):\n",
    "        \n",
    "        ########################################\n",
    "        #A. Get all unique songs for this user\n",
    "        ########################################\n",
    "        user_songs = self.get_user_items(user)    \n",
    "            \n",
    "        print(\"No. of unique songs for the user: %d\" % len(user_songs))\n",
    "        \n",
    "        ######################################################\n",
    "        #B. Get all unique items (songs) in the training data\n",
    "        ######################################################\n",
    "        all_songs = self.get_all_items_train_data()\n",
    "        \n",
    "        print(\"no. of unique songs in the training set: %d\" % len(all_songs))\n",
    "         \n",
    "        ###############################################\n",
    "        #C. Construct item cooccurence matrix of size \n",
    "        #len(user_songs) X len(songs)\n",
    "        ###############################################\n",
    "        cooccurence_matrix = self.construct_cooccurence_matrix(user_songs, all_songs)\n",
    "        \n",
    "        #######################################################\n",
    "        #D. Use the cooccurence matrix to make recommendations\n",
    "        #######################################################\n",
    "        df_recommendations = self.generate_top_recommendations(user, cooccurence_matrix, all_songs, user_songs)\n",
    "                \n",
    "        return df_recommendations\n",
    "    \n",
    "    #Get similar items to given items\n",
    "    def get_similar_items(self, item_list):\n",
    "        \n",
    "        user_songs = item_list\n",
    "        \n",
    "        ######################################################\n",
    "        #B. Get all unique items (songs) in the training data\n",
    "        ######################################################\n",
    "        all_songs = self.get_all_items_train_data()\n",
    "        \n",
    "        print(\"no. of unique songs in the training set: %d\" % len(all_songs))\n",
    "         \n",
    "        ###############################################\n",
    "        #C. Construct item cooccurence matrix of size \n",
    "        #len(user_songs) X len(songs)\n",
    "        ###############################################\n",
    "        cooccurence_matrix = self.construct_cooccurence_matrix(user_songs, all_songs)\n",
    "        \n",
    "        #######################################################\n",
    "        #D. Use the cooccurence matrix to make recommendations\n",
    "        #######################################################\n",
    "        user = \"\"\n",
    "        df_recommendations = self.generate_top_recommendations(user, cooccurence_matrix, all_songs, user_songs)\n",
    "         \n",
    "        return df_recommendations"
   ]
  },
  {
   "cell_type": "markdown",
   "id": "b4845370-6a5c-4ba5-80ed-7d5c4d126bde",
   "metadata": {},
   "source": [
    "### Engine"
   ]
  },
  {
   "cell_type": "code",
   "execution_count": 16,
   "id": "d9188db5-0d09-41ad-8546-57e38551de07",
   "metadata": {},
   "outputs": [],
   "source": [
    "pop = popularity_recommender_py()"
   ]
  },
  {
   "cell_type": "code",
   "execution_count": 17,
   "id": "acc54749-739c-4b13-8505-22c45bd1beb5",
   "metadata": {},
   "outputs": [],
   "source": [
    "pop.create(df,'user_id','title')"
   ]
  },
  {
   "cell_type": "code",
   "execution_count": 18,
   "id": "345553ec-923a-47de-a5b2-1572073478f2",
   "metadata": {},
   "outputs": [
    {
     "data": {
      "text/html": [
       "<div>\n",
       "<style scoped>\n",
       "    .dataframe tbody tr th:only-of-type {\n",
       "        vertical-align: middle;\n",
       "    }\n",
       "\n",
       "    .dataframe tbody tr th {\n",
       "        vertical-align: top;\n",
       "    }\n",
       "\n",
       "    .dataframe thead th {\n",
       "        text-align: right;\n",
       "    }\n",
       "</style>\n",
       "<table border=\"1\" class=\"dataframe\">\n",
       "  <thead>\n",
       "    <tr style=\"text-align: right;\">\n",
       "      <th></th>\n",
       "      <th>user_id</th>\n",
       "      <th>title</th>\n",
       "      <th>score</th>\n",
       "      <th>Rank</th>\n",
       "    </tr>\n",
       "  </thead>\n",
       "  <tbody>\n",
       "    <tr>\n",
       "      <th>4388</th>\n",
       "      <td>ca0389325d560df3809ad1d126a838eec73b0a1d</td>\n",
       "      <td>Sehr kosmisch</td>\n",
       "      <td>5043</td>\n",
       "      <td>1.0</td>\n",
       "    </tr>\n",
       "    <tr>\n",
       "      <th>5613</th>\n",
       "      <td>ca0389325d560df3809ad1d126a838eec73b0a1d</td>\n",
       "      <td>Undo</td>\n",
       "      <td>4483</td>\n",
       "      <td>2.0</td>\n",
       "    </tr>\n",
       "    <tr>\n",
       "      <th>6126</th>\n",
       "      <td>ca0389325d560df3809ad1d126a838eec73b0a1d</td>\n",
       "      <td>You're The One</td>\n",
       "      <td>4136</td>\n",
       "      <td>3.0</td>\n",
       "    </tr>\n",
       "    <tr>\n",
       "      <th>1256</th>\n",
       "      <td>ca0389325d560df3809ad1d126a838eec73b0a1d</td>\n",
       "      <td>Dog Days Are Over (Radio Edit)</td>\n",
       "      <td>3780</td>\n",
       "      <td>4.0</td>\n",
       "    </tr>\n",
       "    <tr>\n",
       "      <th>4147</th>\n",
       "      <td>ca0389325d560df3809ad1d126a838eec73b0a1d</td>\n",
       "      <td>Revelry</td>\n",
       "      <td>3672</td>\n",
       "      <td>5.0</td>\n",
       "    </tr>\n",
       "    <tr>\n",
       "      <th>4378</th>\n",
       "      <td>ca0389325d560df3809ad1d126a838eec73b0a1d</td>\n",
       "      <td>Secrets</td>\n",
       "      <td>3430</td>\n",
       "      <td>6.0</td>\n",
       "    </tr>\n",
       "    <tr>\n",
       "      <th>2207</th>\n",
       "      <td>ca0389325d560df3809ad1d126a838eec73b0a1d</td>\n",
       "      <td>Horn Concerto No. 4 in E flat K495: II. Romanc...</td>\n",
       "      <td>3272</td>\n",
       "      <td>7.0</td>\n",
       "    </tr>\n",
       "    <tr>\n",
       "      <th>2142</th>\n",
       "      <td>ca0389325d560df3809ad1d126a838eec73b0a1d</td>\n",
       "      <td>Hey_ Soul Sister</td>\n",
       "      <td>2791</td>\n",
       "      <td>8.0</td>\n",
       "    </tr>\n",
       "    <tr>\n",
       "      <th>1658</th>\n",
       "      <td>ca0389325d560df3809ad1d126a838eec73b0a1d</td>\n",
       "      <td>Fireflies</td>\n",
       "      <td>2725</td>\n",
       "      <td>9.0</td>\n",
       "    </tr>\n",
       "    <tr>\n",
       "      <th>5444</th>\n",
       "      <td>ca0389325d560df3809ad1d126a838eec73b0a1d</td>\n",
       "      <td>Tive Sim</td>\n",
       "      <td>2668</td>\n",
       "      <td>10.0</td>\n",
       "    </tr>\n",
       "  </tbody>\n",
       "</table>\n",
       "</div>"
      ],
      "text/plain": [
       "                                       user_id  \\\n",
       "4388  ca0389325d560df3809ad1d126a838eec73b0a1d   \n",
       "5613  ca0389325d560df3809ad1d126a838eec73b0a1d   \n",
       "6126  ca0389325d560df3809ad1d126a838eec73b0a1d   \n",
       "1256  ca0389325d560df3809ad1d126a838eec73b0a1d   \n",
       "4147  ca0389325d560df3809ad1d126a838eec73b0a1d   \n",
       "4378  ca0389325d560df3809ad1d126a838eec73b0a1d   \n",
       "2207  ca0389325d560df3809ad1d126a838eec73b0a1d   \n",
       "2142  ca0389325d560df3809ad1d126a838eec73b0a1d   \n",
       "1658  ca0389325d560df3809ad1d126a838eec73b0a1d   \n",
       "5444  ca0389325d560df3809ad1d126a838eec73b0a1d   \n",
       "\n",
       "                                                  title  score  Rank  \n",
       "4388                                      Sehr kosmisch   5043   1.0  \n",
       "5613                                               Undo   4483   2.0  \n",
       "6126                                     You're The One   4136   3.0  \n",
       "1256                     Dog Days Are Over (Radio Edit)   3780   4.0  \n",
       "4147                                            Revelry   3672   5.0  \n",
       "4378                                            Secrets   3430   6.0  \n",
       "2207  Horn Concerto No. 4 in E flat K495: II. Romanc...   3272   7.0  \n",
       "2142                                   Hey_ Soul Sister   2791   8.0  \n",
       "1658                                          Fireflies   2725   9.0  \n",
       "5444                                           Tive Sim   2668  10.0  "
      ]
     },
     "execution_count": 18,
     "metadata": {},
     "output_type": "execute_result"
    }
   ],
   "source": [
    "pop.recommend(df['user_id'][56])"
   ]
  },
  {
   "cell_type": "code",
   "execution_count": 19,
   "id": "765cca64-e580-4c36-b002-dce1866df761",
   "metadata": {},
   "outputs": [],
   "source": [
    "# Create an object to store the class\n",
    "sim = item_similarity_recommender_py()\n",
    "\n",
    "# Using the same object filter a class\n",
    "sim.create(df,'user_id','title')"
   ]
  },
  {
   "cell_type": "markdown",
   "id": "83b5dccb-95bb-4260-a86b-88e1732d6711",
   "metadata": {},
   "source": [
    "**Using specific user id listen history, the model can recommend similar songs**"
   ]
  },
  {
   "cell_type": "code",
   "execution_count": 20,
   "id": "5632cedc-4e55-469a-b59d-8254ff516b8f",
   "metadata": {},
   "outputs": [
    {
     "name": "stdout",
     "output_type": "stream",
     "text": [
      "No. of unique songs for the user: 27\n",
      "no. of unique songs in the training set: 6183\n",
      "Non zero values in cooccurence_matrix :36424\n"
     ]
    },
    {
     "data": {
      "text/html": [
       "<div>\n",
       "<style scoped>\n",
       "    .dataframe tbody tr th:only-of-type {\n",
       "        vertical-align: middle;\n",
       "    }\n",
       "\n",
       "    .dataframe tbody tr th {\n",
       "        vertical-align: top;\n",
       "    }\n",
       "\n",
       "    .dataframe thead th {\n",
       "        text-align: right;\n",
       "    }\n",
       "</style>\n",
       "<table border=\"1\" class=\"dataframe\">\n",
       "  <thead>\n",
       "    <tr style=\"text-align: right;\">\n",
       "      <th></th>\n",
       "      <th>user_id</th>\n",
       "      <th>song</th>\n",
       "      <th>score</th>\n",
       "      <th>rank</th>\n",
       "    </tr>\n",
       "  </thead>\n",
       "  <tbody>\n",
       "    <tr>\n",
       "      <th>0</th>\n",
       "      <td>4fbde29be137e7179046c148f9e15db17c3278be</td>\n",
       "      <td>Revelry</td>\n",
       "      <td>0.023829</td>\n",
       "      <td>1</td>\n",
       "    </tr>\n",
       "    <tr>\n",
       "      <th>1</th>\n",
       "      <td>4fbde29be137e7179046c148f9e15db17c3278be</td>\n",
       "      <td>Sehr kosmisch</td>\n",
       "      <td>0.019945</td>\n",
       "      <td>2</td>\n",
       "    </tr>\n",
       "    <tr>\n",
       "      <th>2</th>\n",
       "      <td>4fbde29be137e7179046c148f9e15db17c3278be</td>\n",
       "      <td>Hey_ Soul Sister</td>\n",
       "      <td>0.018541</td>\n",
       "      <td>3</td>\n",
       "    </tr>\n",
       "    <tr>\n",
       "      <th>3</th>\n",
       "      <td>4fbde29be137e7179046c148f9e15db17c3278be</td>\n",
       "      <td>Dog Days Are Over (Radio Edit)</td>\n",
       "      <td>0.018419</td>\n",
       "      <td>4</td>\n",
       "    </tr>\n",
       "    <tr>\n",
       "      <th>4</th>\n",
       "      <td>4fbde29be137e7179046c148f9e15db17c3278be</td>\n",
       "      <td>Drop The World</td>\n",
       "      <td>0.018322</td>\n",
       "      <td>5</td>\n",
       "    </tr>\n",
       "    <tr>\n",
       "      <th>5</th>\n",
       "      <td>4fbde29be137e7179046c148f9e15db17c3278be</td>\n",
       "      <td>Fireflies</td>\n",
       "      <td>0.018209</td>\n",
       "      <td>6</td>\n",
       "    </tr>\n",
       "    <tr>\n",
       "      <th>6</th>\n",
       "      <td>4fbde29be137e7179046c148f9e15db17c3278be</td>\n",
       "      <td>Marry Me</td>\n",
       "      <td>0.016540</td>\n",
       "      <td>7</td>\n",
       "    </tr>\n",
       "    <tr>\n",
       "      <th>7</th>\n",
       "      <td>4fbde29be137e7179046c148f9e15db17c3278be</td>\n",
       "      <td>Ain't Misbehavin</td>\n",
       "      <td>0.016117</td>\n",
       "      <td>8</td>\n",
       "    </tr>\n",
       "    <tr>\n",
       "      <th>8</th>\n",
       "      <td>4fbde29be137e7179046c148f9e15db17c3278be</td>\n",
       "      <td>Tive Sim</td>\n",
       "      <td>0.016110</td>\n",
       "      <td>9</td>\n",
       "    </tr>\n",
       "    <tr>\n",
       "      <th>9</th>\n",
       "      <td>4fbde29be137e7179046c148f9e15db17c3278be</td>\n",
       "      <td>Pursuit Of Happiness (nightmare)</td>\n",
       "      <td>0.015990</td>\n",
       "      <td>10</td>\n",
       "    </tr>\n",
       "  </tbody>\n",
       "</table>\n",
       "</div>"
      ],
      "text/plain": [
       "                                    user_id                              song  \\\n",
       "0  4fbde29be137e7179046c148f9e15db17c3278be                           Revelry   \n",
       "1  4fbde29be137e7179046c148f9e15db17c3278be                     Sehr kosmisch   \n",
       "2  4fbde29be137e7179046c148f9e15db17c3278be                  Hey_ Soul Sister   \n",
       "3  4fbde29be137e7179046c148f9e15db17c3278be    Dog Days Are Over (Radio Edit)   \n",
       "4  4fbde29be137e7179046c148f9e15db17c3278be                    Drop The World   \n",
       "5  4fbde29be137e7179046c148f9e15db17c3278be                         Fireflies   \n",
       "6  4fbde29be137e7179046c148f9e15db17c3278be                          Marry Me   \n",
       "7  4fbde29be137e7179046c148f9e15db17c3278be                  Ain't Misbehavin   \n",
       "8  4fbde29be137e7179046c148f9e15db17c3278be                          Tive Sim   \n",
       "9  4fbde29be137e7179046c148f9e15db17c3278be  Pursuit Of Happiness (nightmare)   \n",
       "\n",
       "      score  rank  \n",
       "0  0.023829     1  \n",
       "1  0.019945     2  \n",
       "2  0.018541     3  \n",
       "3  0.018419     4  \n",
       "4  0.018322     5  \n",
       "5  0.018209     6  \n",
       "6  0.016540     7  \n",
       "7  0.016117     8  \n",
       "8  0.016110     9  \n",
       "9  0.015990    10  "
      ]
     },
     "execution_count": 20,
     "metadata": {},
     "output_type": "execute_result"
    }
   ],
   "source": [
    "sim.recommend(df['user_id'][14])"
   ]
  },
  {
   "cell_type": "markdown",
   "id": "fdd7f737-050f-40aa-946e-94f788b64ae7",
   "metadata": {},
   "source": [
    "**Pass songs in the class, it will suggest similar songs**"
   ]
  },
  {
   "cell_type": "code",
   "execution_count": 21,
   "id": "409a82c1-c6e3-4377-a335-9f1f0b211998",
   "metadata": {},
   "outputs": [
    {
     "name": "stdout",
     "output_type": "stream",
     "text": [
      "no. of unique songs in the training set: 6183\n",
      "Non zero values in cooccurence_matrix :4343\n"
     ]
    },
    {
     "data": {
      "text/html": [
       "<div>\n",
       "<style scoped>\n",
       "    .dataframe tbody tr th:only-of-type {\n",
       "        vertical-align: middle;\n",
       "    }\n",
       "\n",
       "    .dataframe tbody tr th {\n",
       "        vertical-align: top;\n",
       "    }\n",
       "\n",
       "    .dataframe thead th {\n",
       "        text-align: right;\n",
       "    }\n",
       "</style>\n",
       "<table border=\"1\" class=\"dataframe\">\n",
       "  <thead>\n",
       "    <tr style=\"text-align: right;\">\n",
       "      <th></th>\n",
       "      <th>user_id</th>\n",
       "      <th>song</th>\n",
       "      <th>score</th>\n",
       "      <th>rank</th>\n",
       "    </tr>\n",
       "  </thead>\n",
       "  <tbody>\n",
       "    <tr>\n",
       "      <th>0</th>\n",
       "      <td></td>\n",
       "      <td>Clocks</td>\n",
       "      <td>0.051251</td>\n",
       "      <td>1</td>\n",
       "    </tr>\n",
       "    <tr>\n",
       "      <th>1</th>\n",
       "      <td></td>\n",
       "      <td>The Scientist</td>\n",
       "      <td>0.046670</td>\n",
       "      <td>2</td>\n",
       "    </tr>\n",
       "    <tr>\n",
       "      <th>2</th>\n",
       "      <td></td>\n",
       "      <td>Fix You</td>\n",
       "      <td>0.042234</td>\n",
       "      <td>3</td>\n",
       "    </tr>\n",
       "    <tr>\n",
       "      <th>3</th>\n",
       "      <td></td>\n",
       "      <td>Horn Concerto No. 4 in E flat K495: II. Romanc...</td>\n",
       "      <td>0.039735</td>\n",
       "      <td>4</td>\n",
       "    </tr>\n",
       "    <tr>\n",
       "      <th>4</th>\n",
       "      <td></td>\n",
       "      <td>Revelry</td>\n",
       "      <td>0.038853</td>\n",
       "      <td>5</td>\n",
       "    </tr>\n",
       "    <tr>\n",
       "      <th>5</th>\n",
       "      <td></td>\n",
       "      <td>Undo</td>\n",
       "      <td>0.038257</td>\n",
       "      <td>6</td>\n",
       "    </tr>\n",
       "    <tr>\n",
       "      <th>6</th>\n",
       "      <td></td>\n",
       "      <td>You're The One</td>\n",
       "      <td>0.036146</td>\n",
       "      <td>7</td>\n",
       "    </tr>\n",
       "    <tr>\n",
       "      <th>7</th>\n",
       "      <td></td>\n",
       "      <td>Représente</td>\n",
       "      <td>0.035977</td>\n",
       "      <td>8</td>\n",
       "    </tr>\n",
       "    <tr>\n",
       "      <th>8</th>\n",
       "      <td></td>\n",
       "      <td>Catch You Baby (Steve Pitron &amp; Max Sanna Radio...</td>\n",
       "      <td>0.035769</td>\n",
       "      <td>9</td>\n",
       "    </tr>\n",
       "    <tr>\n",
       "      <th>9</th>\n",
       "      <td></td>\n",
       "      <td>Tive Sim</td>\n",
       "      <td>0.035400</td>\n",
       "      <td>10</td>\n",
       "    </tr>\n",
       "  </tbody>\n",
       "</table>\n",
       "</div>"
      ],
      "text/plain": [
       "  user_id                                               song     score  rank\n",
       "0                                                     Clocks  0.051251     1\n",
       "1                                              The Scientist  0.046670     2\n",
       "2                                                    Fix You  0.042234     3\n",
       "3          Horn Concerto No. 4 in E flat K495: II. Romanc...  0.039735     4\n",
       "4                                                    Revelry  0.038853     5\n",
       "5                                                       Undo  0.038257     6\n",
       "6                                             You're The One  0.036146     7\n",
       "7                                                 Représente  0.035977     8\n",
       "8          Catch You Baby (Steve Pitron & Max Sanna Radio...  0.035769     9\n",
       "9                                                   Tive Sim  0.035400    10"
      ]
     },
     "execution_count": 21,
     "metadata": {},
     "output_type": "execute_result"
    }
   ],
   "source": [
    "sim.get_similar_items(['Yellow','Invalid'])"
   ]
  }
 ],
 "metadata": {
  "kernelspec": {
   "display_name": "Python 3 (ipykernel)",
   "language": "python",
   "name": "python3"
  },
  "language_info": {
   "codemirror_mode": {
    "name": "ipython",
    "version": 3
   },
   "file_extension": ".py",
   "mimetype": "text/x-python",
   "name": "python",
   "nbconvert_exporter": "python",
   "pygments_lexer": "ipython3",
   "version": "3.10.6"
  }
 },
 "nbformat": 4,
 "nbformat_minor": 5
}
